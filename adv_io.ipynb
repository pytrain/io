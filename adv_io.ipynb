{
  "nbformat": 4,
  "nbformat_minor": 0,
  "metadata": {
    "colab": {
      "name": "io.ipynb",
      "version": "0.3.2",
      "provenance": [],
      "collapsed_sections": []
    },
    "kernelspec": {
      "name": "python3",
      "display_name": "Python 3"
    }
  },
  "cells": [
    {
      "cell_type": "markdown",
      "metadata": {
        "id": "BhdP-jQAdkXV",
        "colab_type": "text"
      },
      "source": [
        "<center><img src=\"http://www.nasa.gov/sites/all/themes/custom/nasatwo/images/nasa-logo.svg\"></center>\n",
        "\n",
        "<center>\n",
        "<h1><font size=\"+3\">GSFC Python Bootcamp</font></h1>\n",
        "</center>\n",
        "\n",
        "---\n",
        "\n",
        "<center><h3>File Manipulation and Usage within Science and Engineering Applications</h3></center>"
      ]
    },
    {
      "cell_type": "code",
      "metadata": {
        "id": "Os9mQotpvQEo",
        "colab_type": "code",
        "colab": {}
      },
      "source": [
        "# data downloads for this lesson\n",
        "\n",
        "import urllib.request\n",
        "\n",
        "# obtain jpg file from online\n",
        "url = 'https://blog.lipsumarium.com/assets/img/posts/2017-07-22-caption-memes-in-python/one-does-not-simply-make-a-good-meme-generator-in-python.jpg'\n",
        "urllib.request.urlretrieve(url, \"meme.jpg\")\n",
        "\n",
        "# this file contains a list of Winter Olympic Medals and details\n",
        "urllib.request.urlretrieve('http://winterolympicsmedals.com/medals.csv', \"medals.csv\")\n",
        "\n",
        "# obtain JSON file from online\n",
        "url = 'https://services.swpc.noaa.gov/json/solar_probabilities.json'\n",
        "urllib.request.urlretrieve(url, 'probabilities.json')"
      ],
      "execution_count": 0,
      "outputs": []
    },
    {
      "cell_type": "markdown",
      "metadata": {
        "id": "Ra57zfMzggrh",
        "colab_type": "text"
      },
      "source": [
        "# 1. The Basics\n",
        "\n",
        "---\n",
        "\n",
        "Normally, in an introductory course, one would learn the following operations to read and write plain text/string data:\n",
        "\n",
        "## 1a. Reading ASCII/Text files\n",
        "\n",
        "```python\n",
        "f = open('filename.txt', 'r')\n",
        "data = f.read() # readline(s) as well\n",
        "f.close()\n",
        "\n",
        "with open('filename.txt', 'r') as f:\n",
        "    data = f.read() # we can also use other modes\n",
        "```\n",
        "\n",
        "## 1b. Writing ASCII/Text files\n",
        "\n",
        "```python\n",
        "f = open('filename.txt', 'w')\n",
        "f.write(data) # type(data) == str\n",
        "f.close()\n",
        "\n",
        "with open('filename.txt', 'w') as f:\n",
        "    f.write(data) # writeline(s) as well\n",
        "```\n",
        "\n",
        "## 1c. Binary\n",
        "\n",
        "```python\n",
        "with open('filename.bin', 'rb') as f:\n",
        "    data = f.read() # read without decoding\n",
        "```\n",
        "\n",
        "If you had a Binary file with mixed data types of known formats, you would then use the [`struct`](https://docs.python.org/3/library/struct.html) function to aid you in decoding binary data. Imagery files such as JPG, PNG, etc. can be read directly using the binary mode of Python, but this can be very tedious as well as not a viable option to read image data.\n",
        "\n",
        "_Warning:_ Be careful about the endianness of your files! (Big or little)"
      ]
    },
    {
      "cell_type": "markdown",
      "metadata": {
        "id": "YcbNIjkbg0G9",
        "colab_type": "text"
      },
      "source": [
        "Take for example, the following image:\n",
        "\n",
        "![meme](https://blog.lipsumarium.com/assets/img/posts/2017-07-22-caption-memes-in-python/one-does-not-simply-make-a-good-meme-generator-in-python.jpg)"
      ]
    },
    {
      "cell_type": "code",
      "metadata": {
        "id": "OuykVdjdhKb8",
        "colab_type": "code",
        "colab": {}
      },
      "source": [
        "with open('meme.jpg', 'rb') as f:\n",
        "  data = f.read()\n",
        "  \n",
        "print(data[:40])"
      ],
      "execution_count": 0,
      "outputs": []
    },
    {
      "cell_type": "markdown",
      "metadata": {
        "id": "mldyowuAh3lY",
        "colab_type": "text"
      },
      "source": [
        "Here, we have read an imagery file in binary mode, but have not decoded this binary string into numbers, text, or whatever else we desire. Other packages such as PIL (Python Imaging Library) exist for those inclined which you should use instead the fork called [Pillow](https://python-pillow.org/). The more advanced and popular [OpenCV](https://opencv-python-tutroals.readthedocs.io/en/latest/py_tutorials/py_tutorials.html) would aid in doing [image manipulation](https://docs.python-guide.org/scenarios/imaging/)."
      ]
    },
    {
      "cell_type": "markdown",
      "metadata": {
        "id": "tp1bs9XckCfm",
        "colab_type": "text"
      },
      "source": [
        "# 2. Other File Types (Standard Packages)\n",
        "\n",
        "---\n",
        "\n",
        "Beyond document-based reading and writing of file data, what other types of data are there?\n",
        "\n",
        "## 2a. CSV\n",
        "\n",
        "Comma-separated value files are similar to spreadsheets and tabular/formatted data and used widely in the engineering and financial disciplines. In Python, we can read these directly using the `csv` module:"
      ]
    },
    {
      "cell_type": "code",
      "metadata": {
        "id": "yERoJigqlDiO",
        "colab_type": "code",
        "colab": {}
      },
      "source": [
        "# this file contains a list of Winter Olympic Medals and details\n",
        "!head medals.csv"
      ],
      "execution_count": 0,
      "outputs": []
    },
    {
      "cell_type": "code",
      "metadata": {
        "id": "2La7-h5ylaq0",
        "colab_type": "code",
        "colab": {}
      },
      "source": [
        "import csv\n",
        "\n",
        "cr = csv.reader(open('medals.csv')) # there is also a writer to write csv files\n",
        "\n",
        "records = 0 # just need a counter to limit output\n",
        "for row in cr:\n",
        "  print(row)\n",
        "  \n",
        "  if records != 10:\n",
        "    records += 1\n",
        "  else:\n",
        "    break"
      ],
      "execution_count": 0,
      "outputs": []
    },
    {
      "cell_type": "markdown",
      "metadata": {
        "id": "c7G0kOdinKbP",
        "colab_type": "text"
      },
      "source": [
        "We can also use [NumPy](https://github.com/pytrain/numpy/blob/master/IntroNumPy.ipynb) or [Pandas](https://github.com/pytrain/pandas/blob/master/Intro_Pandas.ipynb) or other packages to read this file type."
      ]
    },
    {
      "cell_type": "code",
      "metadata": {
        "id": "hsvzMjiYm8Qh",
        "colab_type": "code",
        "colab": {}
      },
      "source": [
        "# NumPy\n",
        "import numpy as np\n",
        "year = np.loadtxt('medals.csv', delimiter=',', usecols=(0), unpack=True, skiprows=1)\n",
        "print(year)\n",
        "\n",
        "################################################################################\n",
        "\n",
        "import pandas as pd\n",
        "# only 10 rows of data will be displayed\n",
        "pd.set_option(\"max_rows\", 10) \n",
        "# print floating point numbers using fixed point notation,\n",
        "np.set_printoptions(suppress=True)\n",
        "\n",
        "# Pandas\n",
        "data = pd.read_csv('medals.csv')\n",
        "print(data)"
      ],
      "execution_count": 0,
      "outputs": []
    },
    {
      "cell_type": "markdown",
      "metadata": {
        "id": "lZx8nO85l1wu",
        "colab_type": "text"
      },
      "source": [
        "# 2b. JSON\n",
        "\n",
        "---\n",
        "\n",
        "JavaScript Object Notion is basically a dictionary or list of dictionaries put into an ASCII/Text file or streamed directly. They are mainly used in web programming and with JavaScript for passing data between websites and the user. Like, CSV, Python contains a direct package to read this type of data."
      ]
    },
    {
      "cell_type": "markdown",
      "metadata": {
        "id": "F_SXDGQxo6s8",
        "colab_type": "text"
      },
      "source": [
        "The following data is the solar event probabilities from the Space Weather Prediction Center. This aids scientists in determining if there will be a solar event that could either cause damage to space-based instruments or impact other Earth-based instrumentation like GPS."
      ]
    },
    {
      "cell_type": "code",
      "metadata": {
        "id": "CNAi_mzRozz1",
        "colab_type": "code",
        "colab": {}
      },
      "source": [
        "!cat probabilities.json"
      ],
      "execution_count": 0,
      "outputs": []
    },
    {
      "cell_type": "code",
      "metadata": {
        "id": "HvqEHyyO1KzL",
        "colab_type": "code",
        "colab": {}
      },
      "source": [
        "import json\n",
        "with open('probabilities.json') as f:\n",
        "  data = json.loads(f.read())\n",
        "  \n",
        "print(data[0])"
      ],
      "execution_count": 0,
      "outputs": []
    },
    {
      "cell_type": "markdown",
      "metadata": {
        "id": "mxem86We1OJv",
        "colab_type": "text"
      },
      "source": [
        "Or, if we wanted to have some fun, we could continually find the location of the International Space Station:"
      ]
    },
    {
      "cell_type": "code",
      "metadata": {
        "id": "GlAss1OYmXb1",
        "colab_type": "code",
        "colab": {}
      },
      "source": [
        "import json\n",
        "import urllib\n",
        "import time\n",
        "import datetime as dt\n",
        "\n",
        "i = 0\n",
        "while i < 10:\n",
        "  response = urllib.request.urlopen(\"http://api.open-notify.org/iss-now.json\")\n",
        "  obj = json.loads(response.read())\n",
        "  \n",
        "  t = dt.datetime.utcfromtimestamp(obj['timestamp']).strftime('%Y-%m-%d %H:%M:%S')\n",
        "  \n",
        "  print('time: ', t, ', position: (',\n",
        "        obj['iss_position']['latitude'], ' ,', obj['iss_position']['longitude'],\n",
        "        ')', end='')\n",
        "  \n",
        "  time.sleep(5)\n",
        "  i += 1\n",
        "  print('\\r', end='')"
      ],
      "execution_count": 0,
      "outputs": []
    },
    {
      "cell_type": "markdown",
      "metadata": {
        "id": "yIwPsQGunPjj",
        "colab_type": "text"
      },
      "source": [
        "We can also use Pandas to read this file type."
      ]
    },
    {
      "cell_type": "code",
      "metadata": {
        "id": "Hy38f9OHqY9X",
        "colab_type": "code",
        "colab": {}
      },
      "source": [
        "pd.read_json('probabilities.json')"
      ],
      "execution_count": 0,
      "outputs": []
    },
    {
      "cell_type": "markdown",
      "metadata": {
        "id": "Yp9_bSut73T4",
        "colab_type": "text"
      },
      "source": [
        "## Exercise\n",
        "\n",
        "---\n",
        "\n",
        "\n"
      ]
    },
    {
      "cell_type": "markdown",
      "metadata": {
        "id": "0SWVPwWtB8cC",
        "colab_type": "text"
      },
      "source": [
        "I'd like to find out the list of airbus flights and their properties of the aircraft. Download, read, and plot the points of the aircraft track.\n",
        "\n",
        "\n",
        "CSV File: https://opensky-network.org/datasets/states/airbus_tree.csv\n",
        "\n",
        "It's hard to test your knowledge of these packages as they are so simple and reading data is usually a preliminary step for data analysis."
      ]
    },
    {
      "cell_type": "code",
      "metadata": {
        "id": "dT2C4opPExrX",
        "colab_type": "code",
        "cellView": "form",
        "colab": {}
      },
      "source": [
        "#@title\n",
        "import pandas as pd\n",
        "\n",
        "data = pd.read_csv('https://opensky-network.org/datasets/states/airbus_tree.csv')\n",
        "\n",
        "# plotting\n",
        "import matplotlib.pyplot as plt\n",
        "\n",
        "for flight in data:\n",
        "  plt.plot(data['lat'], data['lon'])"
      ],
      "execution_count": 0,
      "outputs": []
    },
    {
      "cell_type": "markdown",
      "metadata": {
        "id": "OzaTScL1osPq",
        "colab_type": "text"
      },
      "source": [
        "# 3. Other File Types (Non-Standard)\n",
        "\n",
        "---\n",
        "\n",
        "Beyond these multi-disciplinary file types, there are other file types that exists that are specific to a research area or data source.\n",
        "\n",
        "\n",
        "## 3a. Earth Science (HDF-5 / netCDF4)\n",
        "\n",
        "Due to the nature of the data produced by Earth Science models, one would need to store time-dependent data within files that can be grouped or put into a particular type of hierachy. HDF-5 is the base file type for this hierarchical data type and netCDF4 is a reduced version limiting to the groups to just one.\n"
      ]
    },
    {
      "cell_type": "code",
      "metadata": {
        "id": "UM0PjOROHILD",
        "colab_type": "code",
        "colab": {}
      },
      "source": [
        ""
      ],
      "execution_count": 0,
      "outputs": []
    },
    {
      "cell_type": "code",
      "metadata": {
        "id": "AMgYYGYxphT_",
        "colab_type": "code",
        "colab": {}
      },
      "source": [
        "import netCDF4 as nc\n",
        "\n",
        "f = nc.Dataset('filename.nc4') # works with netCDF3 file types\n",
        "print(f.variables)\n",
        "f.close()"
      ],
      "execution_count": 0,
      "outputs": []
    },
    {
      "cell_type": "code",
      "metadata": {
        "id": "KVgxsmdTpr53",
        "colab_type": "code",
        "colab": {}
      },
      "source": [
        "import h5py as h5\n",
        "\n",
        "f = h5.File('filename.h5') # should work with netCDF4 files\n",
        "print(f.groups)\n",
        "print(f.attrs)\n",
        "f.close()"
      ],
      "execution_count": 0,
      "outputs": []
    },
    {
      "cell_type": "markdown",
      "metadata": {
        "id": "pGGxrwWEqbA0",
        "colab_type": "text"
      },
      "source": [
        "In addition to this hierarchical raw data format for Earth Science data, there is also GIS application data types"
      ]
    },
    {
      "cell_type": "code",
      "metadata": {
        "id": "B1fevF74rX33",
        "colab_type": "code",
        "colab": {}
      },
      "source": [
        "# insert to read/manipulate shapefiles & GEOtiffs"
      ],
      "execution_count": 0,
      "outputs": []
    },
    {
      "cell_type": "markdown",
      "metadata": {
        "id": "eSZCyMEbqBLk",
        "colab_type": "text"
      },
      "source": [
        "## 3b. Space Science (Astronomy, Heliophysics, etc.) - FITS Files\n",
        "\n",
        "FITS (Flexible Image Transport System) files contains imagery and the metadata associated with the imagery that is found in the file. FITS is a standard data format used within astronomy and is endorsed by [GSFC NASA](http://fits.gsfc.nasa.gov/) and the IAU (International Astronomical Union).\n",
        "\n",
        "Most FITS files when opened from a web browser shows a header of ASCII (human readible) giving the details or descriptions of the data contained within the file.\n",
        "\n",
        "> Sample Files:  \n",
        ">  \n",
        "> There are samples within the package AstroPy and some distributed online through GSFC. [Here](http://fits.gsfc.nasa.gov/fits_samples.html) is a link to those samples provided by GSFC.\n",
        "\n",
        "### Reading a FITS Fiile: Crab Nebula and Pulsar"
      ]
    },
    {
      "cell_type": "code",
      "metadata": {
        "id": "6ipiBNEX9WmL",
        "colab_type": "code",
        "colab": {}
      },
      "source": [
        "from astropy.io import fits\n",
        "\n",
        "# FITS sample file used from Chandra X-Ray Observatory:\n",
        "# http://chandra.harvard.edu/photo/2009/crab/fits/crab.fits\n",
        "image_file = fits.open('http://chandra.harvard.edu/photo/2009/crab/fits/crab.fits')"
      ],
      "execution_count": 0,
      "outputs": []
    },
    {
      "cell_type": "markdown",
      "metadata": {
        "id": "FNHGe0349yTG",
        "colab_type": "text"
      },
      "source": [
        "Our image file contains headers and data combined. Let's look at the header information first.\n",
        "\n",
        "### FITS Headers"
      ]
    },
    {
      "cell_type": "code",
      "metadata": {
        "id": "mESDdmi9943l",
        "colab_type": "code",
        "colab": {}
      },
      "source": [
        "image_file[0].header"
      ],
      "execution_count": 0,
      "outputs": []
    },
    {
      "cell_type": "code",
      "metadata": {
        "id": "xyOF5DCr96r8",
        "colab_type": "code",
        "colab": {}
      },
      "source": [
        "image_file.info()"
      ],
      "execution_count": 0,
      "outputs": []
    },
    {
      "cell_type": "code",
      "metadata": {
        "id": "A4gTqvn398qZ",
        "colab_type": "code",
        "colab": {}
      },
      "source": [
        "image_data = image_file[0].data\n",
        "print(image_data.shape)"
      ],
      "execution_count": 0,
      "outputs": []
    },
    {
      "cell_type": "markdown",
      "metadata": {
        "id": "1TFR0o0M-Cn9",
        "colab_type": "text"
      },
      "source": [
        "### Plotting with AstroPy\n",
        "\n",
        "Here, we will use matplotlib in conjunction with AstroPy to visualize this Nebula."
      ]
    },
    {
      "cell_type": "code",
      "metadata": {
        "id": "nooB3qYG-j5Z",
        "colab_type": "code",
        "colab": {}
      },
      "source": [
        "import matplotlib.pyplot as plt\n",
        "%matplotlib inline\n",
        "from astropy.visualization import astropy_mpl_style\n",
        "plt.style.use(astropy_mpl_style)\n",
        "\n",
        "plt.figure(figsize=(20,10))\n",
        "plt.imshow(image_data, cmap='gray')\n",
        "plt.colorbar()"
      ],
      "execution_count": 0,
      "outputs": []
    },
    {
      "cell_type": "code",
      "metadata": {
        "id": "jJemDmy2-o31",
        "colab_type": "code",
        "colab": {}
      },
      "source": [
        "plt.figure(figsize=(20,10))\n",
        "plt.imshow(image_data, cmap='plasma')\n",
        "plt.colorbar()"
      ],
      "execution_count": 0,
      "outputs": []
    },
    {
      "cell_type": "markdown",
      "metadata": {
        "id": "HHzfRBTuAa4o",
        "colab_type": "text"
      },
      "source": [
        "You can also create a FITS file from a NumPy array using the following template:\n",
        "\n",
        "```python\n",
        "hdu = fits.PrimaryHDU(new_data)\n",
        "hdu.writeto('filename.fits')\n",
        "```\n",
        "\n",
        "The metadata can be added in later, but with the PrimaryHDU function, it goes ahead and fills some of that data in for you."
      ]
    },
    {
      "cell_type": "markdown",
      "metadata": {
        "id": "0BxpYzmsqZhq",
        "colab_type": "text"
      },
      "source": [
        "## 3c. Engineering Applications (Signal Processing, Streamed Data, etc.)"
      ]
    },
    {
      "cell_type": "markdown",
      "metadata": {
        "id": "PcHrcOl29VpD",
        "colab_type": "text"
      },
      "source": [
        "Signal processing is one example of an engineering application that would take a specific data format and require one to manipulate or modify the data in order to produce desired physical quantities. Let's take for example a sample sine wave for audio."
      ]
    },
    {
      "cell_type": "code",
      "metadata": {
        "id": "YdK0HiBVBPT9",
        "colab_type": "code",
        "colab": {}
      },
      "source": [
        "# Generate a sound\n",
        "import numpy as np\n",
        "from IPython.display import Audio\n",
        "import matplotlib.pyplot as plt\n",
        "%matplotlib inline\n",
        "\n",
        "framerate = 44100\n",
        "t = np.linspace(0,5,framerate*5)\n",
        "data = np.sin(2*np.pi*220*t) # one tone\n",
        "plt.plot(data)\n",
        "data = data + np.sin(2*np.pi*224*t) # two tones (two sine waves)\n",
        "plt.plot(data)\n",
        "plt.xlim(0,1000)\n",
        "Audio(data,rate=framerate)"
      ],
      "execution_count": 0,
      "outputs": []
    },
    {
      "cell_type": "code",
      "metadata": {
        "id": "0n3ZfvaHCdGX",
        "colab_type": "code",
        "colab": {}
      },
      "source": [
        "# Can also do stereo or more channels\n",
        "dataleft = np.sin(2*np.pi*220*t)\n",
        "dataright = np.sin(2*np.pi*224*t)\n",
        "plt.plot(dataleft)\n",
        "plt.plot(dataright)\n",
        "plt.xlim(0,1000)\n",
        "Audio([dataleft, dataright],rate=framerate)"
      ],
      "execution_count": 0,
      "outputs": []
    },
    {
      "cell_type": "code",
      "metadata": {
        "id": "YayEVbjmCd3u",
        "colab_type": "code",
        "colab": {}
      },
      "source": [
        "Audio(\"http://www.nasa.gov/mp3/574928main_houston_problem.mp3\")  # From URL"
      ],
      "execution_count": 0,
      "outputs": []
    }
  ]
}